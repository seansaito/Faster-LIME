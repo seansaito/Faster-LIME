{
 "cells": [
  {
   "cell_type": "markdown",
   "metadata": {},
   "source": [
    "# Visualize vanilla LIME and robust LIME in the PCA and t-SNE spaces\n",
    "\n",
    "1. Load COMPAS dataset\n",
    "2. Generate synthetic neighborhood via vanilla LIME\n",
    "    * Can be done via [this LIME tabular method](https://github.com/marcotcr/lime/blob/2ba75c188dcffe3e926c093efc5d03a0d51692b6/lime/lime_tabular.py#L468)\n",
    "3. Generate synthetic neighborhood via robust LIME (CTGAN)\n",
    "4. Reduce the original dataset, vanilla LIME neighborhood, and robust LIME neighborhood to 2-D using [PCA](https://scikit-learn.org/stable/modules/generated/sklearn.decomposition.PCA.html) and [t-SNE](https://scikit-learn.org/stable/modules/generated/sklearn.manifold.TSNE.html)\n",
    "    * Tips on t-SNE: https://distill.pub/2016/misread-tsne/\n",
    "5. Plot"
   ]
  },
  {
   "cell_type": "code",
   "execution_count": 1,
   "metadata": {},
   "outputs": [],
   "source": [
    "%matplotlib inline\n",
    "import os\n",
    "import sys\n",
    "\n",
    "sys.path.append('../')\n",
    "\n",
    "from experiments.utils.datasets import get_dataset\n",
    "\n",
    "import pandas as pd\n",
    "import numpy as np\n",
    "import matplotlib.pyplot as plt\n",
    "\n",
    "# Explainers\n",
    "from lime.lime_tabular import LimeTabularExplainer\n",
    "from faster_lime.explainers.numpy_robust_tabular_explainer import NumpyRobustTabularExplainer\n",
    "\n",
    "# d reduction utilities\n",
    "from sklearn.decomposition import PCA\n",
    "from sklearn.manifold import TSNE\n",
    "\n",
    "# 1. Load dataset\n",
    "data = get_dataset('compas', {})\n",
    "df = data['data']\n",
    "numerical_ft = [0,2,3]\n",
    "categorical_ft = list(set(range(9)).difference(set(numerical_ft)))\n",
    "num_samples_vanilla = 50\n",
    "num_samples_robust = 200\n",
    "num_data_local_neigbourhood = 2"
   ]
  },
  {
   "cell_type": "code",
   "execution_count": 2,
   "metadata": {
    "pycharm": {
     "name": "#%%\n"
    }
   },
   "outputs": [
    {
     "data": {
      "text/plain": "    age  two_year_recid  priors_count  length_of_stay  c_charge_degree_F  \\\nid                                                                         \n1    69               0             0               0                  1   \n3    34               1             0              10                  1   \n4    24               1             4               1                  1   \n7    44               0             0               1                  0   \n8    41               1            14               6                  1   \n\n    c_charge_degree_M  sex_Female  sex_Male  race  \nid                                                 \n1                   0           0         1     0  \n3                   0           0         1     1  \n4                   0           0         1     1  \n7                   1           0         1     0  \n8                   0           0         1     0  ",
      "text/html": "<div>\n<style scoped>\n    .dataframe tbody tr th:only-of-type {\n        vertical-align: middle;\n    }\n\n    .dataframe tbody tr th {\n        vertical-align: top;\n    }\n\n    .dataframe thead th {\n        text-align: right;\n    }\n</style>\n<table border=\"1\" class=\"dataframe\">\n  <thead>\n    <tr style=\"text-align: right;\">\n      <th></th>\n      <th>age</th>\n      <th>two_year_recid</th>\n      <th>priors_count</th>\n      <th>length_of_stay</th>\n      <th>c_charge_degree_F</th>\n      <th>c_charge_degree_M</th>\n      <th>sex_Female</th>\n      <th>sex_Male</th>\n      <th>race</th>\n    </tr>\n    <tr>\n      <th>id</th>\n      <th></th>\n      <th></th>\n      <th></th>\n      <th></th>\n      <th></th>\n      <th></th>\n      <th></th>\n      <th></th>\n      <th></th>\n    </tr>\n  </thead>\n  <tbody>\n    <tr>\n      <th>1</th>\n      <td>69</td>\n      <td>0</td>\n      <td>0</td>\n      <td>0</td>\n      <td>1</td>\n      <td>0</td>\n      <td>0</td>\n      <td>1</td>\n      <td>0</td>\n    </tr>\n    <tr>\n      <th>3</th>\n      <td>34</td>\n      <td>1</td>\n      <td>0</td>\n      <td>10</td>\n      <td>1</td>\n      <td>0</td>\n      <td>0</td>\n      <td>1</td>\n      <td>1</td>\n    </tr>\n    <tr>\n      <th>4</th>\n      <td>24</td>\n      <td>1</td>\n      <td>4</td>\n      <td>1</td>\n      <td>1</td>\n      <td>0</td>\n      <td>0</td>\n      <td>1</td>\n      <td>1</td>\n    </tr>\n    <tr>\n      <th>7</th>\n      <td>44</td>\n      <td>0</td>\n      <td>0</td>\n      <td>1</td>\n      <td>0</td>\n      <td>1</td>\n      <td>0</td>\n      <td>1</td>\n      <td>0</td>\n    </tr>\n    <tr>\n      <th>8</th>\n      <td>41</td>\n      <td>1</td>\n      <td>14</td>\n      <td>6</td>\n      <td>1</td>\n      <td>0</td>\n      <td>0</td>\n      <td>1</td>\n      <td>0</td>\n    </tr>\n  </tbody>\n</table>\n</div>"
     },
     "execution_count": 2,
     "metadata": {},
     "output_type": "execute_result"
    }
   ],
   "source": [
    "df.head()"
   ]
  },
  {
   "cell_type": "code",
   "execution_count": 3,
   "metadata": {
    "pycharm": {
     "name": "#%%\n"
    }
   },
   "outputs": [
    {
     "data": {
      "text/plain": "array([0, 1])"
     },
     "execution_count": 3,
     "metadata": {},
     "output_type": "execute_result"
    }
   ],
   "source": [
    "df['two_year_recid'].unique()"
   ]
  },
  {
   "cell_type": "markdown",
   "metadata": {
    "pycharm": {
     "name": "#%% md\n"
    }
   },
   "source": [
    "# Generate vanilla LIME synthetic neighborhood"
   ]
  },
  {
   "cell_type": "code",
   "execution_count": 4,
   "outputs": [],
   "source": [
    "tabular_vanilla = LimeTabularExplainer(df.to_numpy(),categorical_features=categorical_ft)\n"
   ],
   "metadata": {
    "collapsed": false,
    "pycharm": {
     "name": "#%%\n"
    }
   }
  },
  {
   "cell_type": "code",
   "execution_count": 5,
   "outputs": [
    {
     "data": {
      "text/plain": "age                  69\ntwo_year_recid        0\npriors_count          0\nlength_of_stay        0\nc_charge_degree_F     1\nc_charge_degree_M     0\nsex_Female            0\nsex_Male              1\nrace                  0\nName: 1, dtype: int64"
     },
     "execution_count": 5,
     "metadata": {},
     "output_type": "execute_result"
    }
   ],
   "source": [
    "df.loc[1,:]"
   ],
   "metadata": {
    "collapsed": false,
    "pycharm": {
     "name": "#%%\n"
    }
   }
  },
  {
   "cell_type": "markdown",
   "source": [
    "## Get `num_data_local_neighbourhood`'s worth of gt data, and generate `num_samples_vanilla` points of vanilla synthetic data for each."
   ],
   "metadata": {
    "collapsed": false,
    "pycharm": {
     "name": "#%% md\n"
    }
   }
  },
  {
   "cell_type": "code",
   "execution_count": 6,
   "metadata": {},
   "outputs": [],
   "source": [
    "import numpy as np\n",
    "N = df.shape[0]\n",
    "idx_of_data_about_which_to_sample = np.random.default_rng().permutation(N)[:num_data_local_neigbourhood]\n",
    "data_synthetic_vanilla = []\n",
    "for i in range(num_data_local_neigbourhood):\n",
    "    idx = idx_of_data_about_which_to_sample[i]\n",
    "    temp = tabular_vanilla._LimeTabularExplainer__data_inverse(df.iloc[int(idx),:], num_samples_vanilla)[1][1:, :]\n",
    "    data_synthetic_vanilla.append(temp)"
   ]
  },
  {
   "cell_type": "code",
   "execution_count": 7,
   "outputs": [],
   "source": [
    "data_synthetic_vanilla = np.concatenate(data_synthetic_vanilla, axis=0)"
   ],
   "metadata": {
    "collapsed": false,
    "pycharm": {
     "name": "#%%\n"
    }
   }
  },
  {
   "cell_type": "markdown",
   "metadata": {
    "pycharm": {
     "name": "#%% md\n"
    }
   },
   "source": [
    "# Generate robust LIME synthetic neighborhood"
   ]
  },
  {
   "cell_type": "markdown",
   "source": [
    "## Loading ctgan"
   ],
   "metadata": {
    "collapsed": false,
    "pycharm": {
     "name": "#%% md\n"
    }
   }
  },
  {
   "cell_type": "code",
   "execution_count": 8,
   "outputs": [
    {
     "name": "stderr",
     "output_type": "stream",
     "text": [
      "/Users/nrjc/.conda/envs/Faster-LIME/lib/python3.8/site-packages/sklearn/externals/joblib/__init__.py:15: FutureWarning: sklearn.externals.joblib is deprecated in 0.21 and will be removed in 0.23. Please import this functionality directly from joblib, which can be installed with: pip install joblib. If this warning is raised when loading pickled models, you may need to re-serialize those models with scikit-learn 0.21+.\n",
      "  warnings.warn(msg, category=FutureWarning)\n",
      "/Users/nrjc/.conda/envs/Faster-LIME/lib/python3.8/site-packages/sklearn/base.py:329: UserWarning: Trying to unpickle estimator StandardScaler from version 0.22.2.post1 when using version 0.23.1. This might lead to breaking code or invalid results. Use at your own risk.\n",
      "  warnings.warn(\n",
      "/Users/nrjc/.conda/envs/Faster-LIME/lib/python3.8/site-packages/sklearn/base.py:329: UserWarning: Trying to unpickle estimator BayesianGaussianMixture from version 0.22.2.post1 when using version 0.23.1. This might lead to breaking code or invalid results. Use at your own risk.\n",
      "  warnings.warn(\n",
      "/Users/nrjc/.conda/envs/Faster-LIME/lib/python3.8/site-packages/sklearn/base.py:329: UserWarning: Trying to unpickle estimator OneHotEncoder from version 0.22.2.post1 when using version 0.23.1. This might lead to breaking code or invalid results. Use at your own risk.\n",
      "  warnings.warn(\n"
     ]
    }
   ],
   "source": [
    "### Train the ctgan model\n",
    "\n",
    "from ctgan import CTGANSynthesizer\n",
    "import pickle\n",
    "import sklearn.externals.joblib as joblib\n",
    "from joblib import dump, load\n",
    "\n",
    "# ctgan = CTGANSynthesizer()\n",
    "ctgan = load('../data/robust_explainer.pkl')"
   ],
   "metadata": {
    "collapsed": false,
    "pycharm": {
     "name": "#%%\n"
    }
   }
  },
  {
   "cell_type": "code",
   "execution_count": 9,
   "outputs": [],
   "source": [
    "import torch\n",
    "ctgan.ctgan_sampler.device = torch.device(\"cpu\")\n",
    "data_synthetic_ctgan = ctgan.ctgan_sampler.sample(1 * num_samples_robust)\n"
   ],
   "metadata": {
    "collapsed": false,
    "pycharm": {
     "name": "#%%\n"
    }
   }
  },
  {
   "cell_type": "markdown",
   "metadata": {
    "pycharm": {
     "name": "#%% md\n"
    }
   },
   "source": [
    "# Reduce to 2-D\n",
    "## PCA\n",
    "PCA trained on vanilla synthetic data"
   ]
  },
  {
   "cell_type": "code",
   "execution_count": 10,
   "outputs": [],
   "source": [
    "import sklearn.decomposition\n",
    "import sklearn.pipeline\n",
    "from sklearn.preprocessing import QuantileTransformer, StandardScaler\n",
    "pca_pipeline = sklearn.pipeline.make_pipeline(StandardScaler(), sklearn.decomposition.PCA(n_components=2))\n",
    "# Train PCA\n",
    "df_numpy = df.to_numpy()"
   ],
   "metadata": {
    "collapsed": false,
    "pycharm": {
     "name": "#%%\n"
    }
   }
  },
  {
   "cell_type": "code",
   "execution_count": 11,
   "outputs": [
    {
     "data": {
      "text/plain": "Pipeline(steps=[('standardscaler', StandardScaler()),\n                ('pca', PCA(n_components=2))])"
     },
     "execution_count": 11,
     "metadata": {},
     "output_type": "execute_result"
    }
   ],
   "source": [
    "pca_pipeline.fit(data_synthetic_vanilla[:, numerical_ft])"
   ],
   "metadata": {
    "collapsed": false,
    "pycharm": {
     "name": "#%%\n"
    }
   }
  },
  {
   "cell_type": "code",
   "execution_count": 12,
   "outputs": [],
   "source": [
    "original_data_reduced = pca_pipeline.transform(df_numpy[:, numerical_ft])"
   ],
   "metadata": {
    "collapsed": false,
    "pycharm": {
     "name": "#%%\n"
    }
   }
  },
  {
   "cell_type": "code",
   "execution_count": 13,
   "outputs": [],
   "source": [
    "transformed_vanilla_pca = pca_pipeline.transform(data_synthetic_vanilla[:, numerical_ft])\n",
    "transformed_ctgan_pca = pca_pipeline.transform(data_synthetic_ctgan[:, numerical_ft])"
   ],
   "metadata": {
    "collapsed": false,
    "pycharm": {
     "name": "#%%\n"
    }
   }
  },
  {
   "cell_type": "markdown",
   "source": [
    "# Plot\n",
    "## PCA"
   ],
   "metadata": {
    "collapsed": false
   }
  },
  {
   "cell_type": "code",
   "execution_count": 14,
   "metadata": {
    "pycharm": {
     "name": "#%%\n"
    }
   },
   "outputs": [
    {
     "data": {
      "text/plain": "<Figure size 576x576 with 1 Axes>",
      "image/png": "[encoded data removed]"
     },
     "metadata": {
      "needs_background": "light"
     },
     "output_type": "display_data"
    }
   ],
   "source": [
    "from matplotlib import pyplot as plt\n",
    "fig = plt.figure(figsize = (8,8))\n",
    "ax = fig.add_subplot(1,1,1)\n",
    "ax.set_xlabel('Principal Component 1', fontsize = 15)\n",
    "ax.set_ylabel('Principal Component 2', fontsize = 15)\n",
    "ax.set_title('2 component PCA', fontsize = 20)\n",
    "targets = ['Data', 'Robust Samples', 'Random Samples']\n",
    "datas = [original_data_reduced, transformed_ctgan_pca, transformed_vanilla_pca]\n",
    "colors = ['r', 'g', 'b']\n",
    "for data, color in zip(datas,colors):\n",
    "    ax.scatter(data[:,0]\n",
    "               , data[:,1]\n",
    "               , c = color\n",
    "               , s = 50,alpha=(0.2 if color !='r' else 1.0))\n",
    "ax.legend(targets)\n",
    "ax.grid()\n",
    "plt.show()"
   ]
  }
 ],
 "metadata": {
  "kernelspec": {
   "display_name": "Python 3",
   "language": "python",
   "name": "python3"
  },
  "language_info": {
   "codemirror_mode": {
    "name": "ipython",
    "version": 3
   },
   "file_extension": ".py",
   "mimetype": "text/x-python",
   "name": "python",
   "nbconvert_exporter": "python",
   "pygments_lexer": "ipython3",
   "version": "3.8.3"
  }
 },
 "nbformat": 4,
 "nbformat_minor": 4
}