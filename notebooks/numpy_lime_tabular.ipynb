{
 "cells": [
  {
   "cell_type": "markdown",
   "metadata": {},
   "source": [
    "# Tabular Explainer in pure Numpy and Scikit-learn\n",
    "\n",
    "We know now that Numpy explainer is much faster than LIME for numerical data. We also found that JAX is not that fast especially when mixed with original numpy. What about tabular datasets?\n",
    "\n",
    "## Steps:\n",
    "\n",
    "* Get training data statistics\n",
    "    * For numerical -> bins\n",
    "    * For categorical -> distributions \n",
    "* Create synthetic neighborhood\n",
    "    * For numerical -> add unit Gaussian noise to scaled data\n",
    "    * For categorical -> sample from distribution\n",
    "    * Strategy for more efficient synthetic data generation: Split the data into categorical and numerical, apply sampling separately, the concatenate again\n",
    "* Get model predictions\n",
    "* Solve\n",
    "* Explain"
   ]
  },
  {
   "cell_type": "code",
   "execution_count": 2,
   "metadata": {},
   "outputs": [],
   "source": [
    "import scipy\n",
    "import numpy as np\n",
    "import pandas as pd\n",
    "\n",
    "import sklearn\n",
    "from sklearn import datasets\n",
    "from sklearn.ensemble import RandomForestClassifier\n",
    "from sklearn.model_selection import train_test_split\n",
    "from sklearn.preprocessing import OneHotEncoder, StandardScaler, LabelEncoder\n",
    "from sklearn.linear_model import Ridge, Lasso\n",
    "from sklearn.metrics import classification_report\n",
    "\n",
    "from lime.lime_tabular import LimeTabularExplainer"
   ]
  },
  {
   "cell_type": "markdown",
   "metadata": {},
   "source": [
    "# Prepare the dataset and train a model"
   ]
  },
  {
   "cell_type": "code",
   "execution_count": 3,
   "metadata": {},
   "outputs": [
    {
     "name": "stdout",
     "output_type": "stream",
     "text": [
      "(1000, 10)\n",
      "good    700\n",
      "bad     300\n",
      "Name: Risk, dtype: int64\n"
     ]
    },
    {
     "name": "stderr",
     "output_type": "stream",
     "text": [
      "/experiments/venv_jax/lib/python3.7/site-packages/ipykernel_launcher.py:5: SettingWithCopyWarning: \n",
      "A value is trying to be set on a copy of a slice from a DataFrame.\n",
      "Try using .loc[row_indexer,col_indexer] = value instead\n",
      "\n",
      "See the caveats in the documentation: https://pandas.pydata.org/pandas-docs/stable/user_guide/indexing.html#returning-a-view-versus-a-copy\n",
      "  \"\"\"\n",
      "/experiments/venv_jax/lib/python3.7/site-packages/ipykernel_launcher.py:6: SettingWithCopyWarning: \n",
      "A value is trying to be set on a copy of a slice from a DataFrame.\n",
      "Try using .loc[row_indexer,col_indexer] = value instead\n",
      "\n",
      "See the caveats in the documentation: https://pandas.pydata.org/pandas-docs/stable/user_guide/indexing.html#returning-a-view-versus-a-copy\n",
      "  \n",
      "/experiments/venv_jax/lib/python3.7/site-packages/ipykernel_launcher.py:19: SettingWithCopyWarning: \n",
      "A value is trying to be set on a copy of a slice from a DataFrame.\n",
      "Try using .loc[row_indexer,col_indexer] = value instead\n",
      "\n",
      "See the caveats in the documentation: https://pandas.pydata.org/pandas-docs/stable/user_guide/indexing.html#returning-a-view-versus-a-copy\n"
     ]
    },
    {
     "name": "stdout",
     "output_type": "stream",
     "text": [
      "0.76\n",
      "              precision    recall  f1-score   support\n",
      "\n",
      "         bad       0.29      1.00      0.45        10\n",
      "        good       1.00      0.73      0.85        90\n",
      "\n",
      "    accuracy                           0.76       100\n",
      "   macro avg       0.65      0.87      0.65       100\n",
      "weighted avg       0.93      0.76      0.81       100\n",
      "\n"
     ]
    }
   ],
   "source": [
    "df = pd.read_csv('../data/german_credit_data.csv')\n",
    "print(df.shape)\n",
    "df = df.fillna('None')\n",
    "target_col = 'Risk'\n",
    "df[df[target_col] == 'good'][target_col] = 1\n",
    "df[df[target_col] == 'bad'][target_col] = 0\n",
    "\n",
    "print(df[target_col].value_counts())\n",
    "\n",
    "numerical_features = ['Age', 'Credit amount', 'Duration']\n",
    "categorical_features = ['Sex', 'Job', 'Housing', 'Saving accounts', \n",
    "                        'Checking account', 'Purpose']\n",
    "feature_names = list(df.columns)[:-1]\n",
    "X, y = df[df.columns[:-1]], df[target_col]\n",
    "\n",
    "dict_le = {}\n",
    "for cat_col in categorical_features:\n",
    "    le = LabelEncoder()\n",
    "    X[cat_col] = le.fit_transform(X[cat_col])\n",
    "    dict_le[cat_col] = le\n",
    "\n",
    "X_train, X_test, y_train, y_test = train_test_split(X, y, test_size=0.1)\n",
    "clf = RandomForestClassifier(n_estimators=100, max_depth=5)\n",
    "clf.fit(X_train, y_train)\n",
    "print(clf.score(X_test, y_test))\n",
    "print(classification_report(clf.predict(X_test), y_test))"
   ]
  },
  {
   "cell_type": "code",
   "execution_count": 115,
   "metadata": {},
   "outputs": [
    {
     "data": {
      "text/plain": [
       "['Age',\n",
       " 'Sex',\n",
       " 'Job',\n",
       " 'Housing',\n",
       " 'Saving accounts',\n",
       " 'Checking account',\n",
       " 'Credit amount',\n",
       " 'Duration',\n",
       " 'Purpose']"
      ]
     },
     "execution_count": 115,
     "metadata": {},
     "output_type": "execute_result"
    }
   ],
   "source": [
    "feature_names"
   ]
  },
  {
   "cell_type": "code",
   "execution_count": 4,
   "metadata": {},
   "outputs": [
    {
     "data": {
      "text/html": [
       "<div>\n",
       "<style scoped>\n",
       "    .dataframe tbody tr th:only-of-type {\n",
       "        vertical-align: middle;\n",
       "    }\n",
       "\n",
       "    .dataframe tbody tr th {\n",
       "        vertical-align: top;\n",
       "    }\n",
       "\n",
       "    .dataframe thead th {\n",
       "        text-align: right;\n",
       "    }\n",
       "</style>\n",
       "<table border=\"1\" class=\"dataframe\">\n",
       "  <thead>\n",
       "    <tr style=\"text-align: right;\">\n",
       "      <th></th>\n",
       "      <th>Age</th>\n",
       "      <th>Sex</th>\n",
       "      <th>Job</th>\n",
       "      <th>Housing</th>\n",
       "      <th>Saving accounts</th>\n",
       "      <th>Checking account</th>\n",
       "      <th>Credit amount</th>\n",
       "      <th>Duration</th>\n",
       "      <th>Purpose</th>\n",
       "      <th>Risk</th>\n",
       "    </tr>\n",
       "  </thead>\n",
       "  <tbody>\n",
       "    <tr>\n",
       "      <th>0</th>\n",
       "      <td>67</td>\n",
       "      <td>male</td>\n",
       "      <td>skilled</td>\n",
       "      <td>own</td>\n",
       "      <td>None</td>\n",
       "      <td>little</td>\n",
       "      <td>1169</td>\n",
       "      <td>6</td>\n",
       "      <td>radio/TV</td>\n",
       "      <td>good</td>\n",
       "    </tr>\n",
       "    <tr>\n",
       "      <th>1</th>\n",
       "      <td>22</td>\n",
       "      <td>female</td>\n",
       "      <td>skilled</td>\n",
       "      <td>own</td>\n",
       "      <td>little</td>\n",
       "      <td>moderate</td>\n",
       "      <td>5951</td>\n",
       "      <td>48</td>\n",
       "      <td>radio/TV</td>\n",
       "      <td>bad</td>\n",
       "    </tr>\n",
       "    <tr>\n",
       "      <th>2</th>\n",
       "      <td>49</td>\n",
       "      <td>male</td>\n",
       "      <td>unskilled_and_resident</td>\n",
       "      <td>own</td>\n",
       "      <td>little</td>\n",
       "      <td>None</td>\n",
       "      <td>2096</td>\n",
       "      <td>12</td>\n",
       "      <td>education</td>\n",
       "      <td>good</td>\n",
       "    </tr>\n",
       "    <tr>\n",
       "      <th>3</th>\n",
       "      <td>45</td>\n",
       "      <td>male</td>\n",
       "      <td>skilled</td>\n",
       "      <td>free</td>\n",
       "      <td>little</td>\n",
       "      <td>little</td>\n",
       "      <td>7882</td>\n",
       "      <td>42</td>\n",
       "      <td>furniture/equipment</td>\n",
       "      <td>good</td>\n",
       "    </tr>\n",
       "    <tr>\n",
       "      <th>4</th>\n",
       "      <td>53</td>\n",
       "      <td>male</td>\n",
       "      <td>skilled</td>\n",
       "      <td>free</td>\n",
       "      <td>little</td>\n",
       "      <td>little</td>\n",
       "      <td>4870</td>\n",
       "      <td>24</td>\n",
       "      <td>car</td>\n",
       "      <td>bad</td>\n",
       "    </tr>\n",
       "  </tbody>\n",
       "</table>\n",
       "</div>"
      ],
      "text/plain": [
       "   Age     Sex                     Job Housing Saving accounts  \\\n",
       "0   67    male                 skilled     own            None   \n",
       "1   22  female                 skilled     own          little   \n",
       "2   49    male  unskilled_and_resident     own          little   \n",
       "3   45    male                 skilled    free          little   \n",
       "4   53    male                 skilled    free          little   \n",
       "\n",
       "  Checking account  Credit amount  Duration              Purpose  Risk  \n",
       "0           little           1169         6             radio/TV  good  \n",
       "1         moderate           5951        48             radio/TV   bad  \n",
       "2             None           2096        12            education  good  \n",
       "3           little           7882        42  furniture/equipment  good  \n",
       "4           little           4870        24                  car   bad  "
      ]
     },
     "execution_count": 4,
     "metadata": {},
     "output_type": "execute_result"
    }
   ],
   "source": [
    "df.head()"
   ]
  },
  {
   "cell_type": "code",
   "execution_count": 5,
   "metadata": {},
   "outputs": [
    {
     "data": {
      "text/html": [
       "<div>\n",
       "<style scoped>\n",
       "    .dataframe tbody tr th:only-of-type {\n",
       "        vertical-align: middle;\n",
       "    }\n",
       "\n",
       "    .dataframe tbody tr th {\n",
       "        vertical-align: top;\n",
       "    }\n",
       "\n",
       "    .dataframe thead th {\n",
       "        text-align: right;\n",
       "    }\n",
       "</style>\n",
       "<table border=\"1\" class=\"dataframe\">\n",
       "  <thead>\n",
       "    <tr style=\"text-align: right;\">\n",
       "      <th></th>\n",
       "      <th>Age</th>\n",
       "      <th>Sex</th>\n",
       "      <th>Job</th>\n",
       "      <th>Housing</th>\n",
       "      <th>Saving accounts</th>\n",
       "      <th>Checking account</th>\n",
       "      <th>Credit amount</th>\n",
       "      <th>Duration</th>\n",
       "      <th>Purpose</th>\n",
       "    </tr>\n",
       "  </thead>\n",
       "  <tbody>\n",
       "    <tr>\n",
       "      <th>459</th>\n",
       "      <td>32</td>\n",
       "      <td>1</td>\n",
       "      <td>1</td>\n",
       "      <td>1</td>\n",
       "      <td>1</td>\n",
       "      <td>0</td>\n",
       "      <td>4594</td>\n",
       "      <td>18</td>\n",
       "      <td>5</td>\n",
       "    </tr>\n",
       "    <tr>\n",
       "      <th>795</th>\n",
       "      <td>22</td>\n",
       "      <td>0</td>\n",
       "      <td>1</td>\n",
       "      <td>2</td>\n",
       "      <td>2</td>\n",
       "      <td>0</td>\n",
       "      <td>2301</td>\n",
       "      <td>9</td>\n",
       "      <td>4</td>\n",
       "    </tr>\n",
       "    <tr>\n",
       "      <th>727</th>\n",
       "      <td>25</td>\n",
       "      <td>0</td>\n",
       "      <td>1</td>\n",
       "      <td>2</td>\n",
       "      <td>1</td>\n",
       "      <td>1</td>\n",
       "      <td>1882</td>\n",
       "      <td>18</td>\n",
       "      <td>5</td>\n",
       "    </tr>\n",
       "    <tr>\n",
       "      <th>542</th>\n",
       "      <td>31</td>\n",
       "      <td>1</td>\n",
       "      <td>1</td>\n",
       "      <td>1</td>\n",
       "      <td>0</td>\n",
       "      <td>1</td>\n",
       "      <td>6350</td>\n",
       "      <td>30</td>\n",
       "      <td>4</td>\n",
       "    </tr>\n",
       "    <tr>\n",
       "      <th>970</th>\n",
       "      <td>22</td>\n",
       "      <td>1</td>\n",
       "      <td>1</td>\n",
       "      <td>1</td>\n",
       "      <td>2</td>\n",
       "      <td>2</td>\n",
       "      <td>1514</td>\n",
       "      <td>15</td>\n",
       "      <td>6</td>\n",
       "    </tr>\n",
       "  </tbody>\n",
       "</table>\n",
       "</div>"
      ],
      "text/plain": [
       "     Age  Sex  Job  Housing  Saving accounts  Checking account  Credit amount  \\\n",
       "459   32    1    1        1                1                 0           4594   \n",
       "795   22    0    1        2                2                 0           2301   \n",
       "727   25    0    1        2                1                 1           1882   \n",
       "542   31    1    1        1                0                 1           6350   \n",
       "970   22    1    1        1                2                 2           1514   \n",
       "\n",
       "     Duration  Purpose  \n",
       "459        18        5  \n",
       "795         9        4  \n",
       "727        18        5  \n",
       "542        30        4  \n",
       "970        15        6  "
      ]
     },
     "execution_count": 5,
     "metadata": {},
     "output_type": "execute_result"
    }
   ],
   "source": [
    "X_train.head()"
   ]
  },
  {
   "cell_type": "code",
   "execution_count": 48,
   "metadata": {},
   "outputs": [
    {
     "data": {
      "text/html": [
       "<div>\n",
       "<style scoped>\n",
       "    .dataframe tbody tr th:only-of-type {\n",
       "        vertical-align: middle;\n",
       "    }\n",
       "\n",
       "    .dataframe tbody tr th {\n",
       "        vertical-align: top;\n",
       "    }\n",
       "\n",
       "    .dataframe thead th {\n",
       "        text-align: right;\n",
       "    }\n",
       "</style>\n",
       "<table border=\"1\" class=\"dataframe\">\n",
       "  <thead>\n",
       "    <tr style=\"text-align: right;\">\n",
       "      <th></th>\n",
       "      <th>Age</th>\n",
       "      <th>Sex</th>\n",
       "      <th>Job</th>\n",
       "      <th>Housing</th>\n",
       "      <th>Saving accounts</th>\n",
       "      <th>Checking account</th>\n",
       "      <th>Credit amount</th>\n",
       "      <th>Duration</th>\n",
       "      <th>Purpose</th>\n",
       "    </tr>\n",
       "  </thead>\n",
       "  <tbody>\n",
       "    <tr>\n",
       "      <th>5</th>\n",
       "      <td>35</td>\n",
       "      <td>1</td>\n",
       "      <td>3</td>\n",
       "      <td>0</td>\n",
       "      <td>0</td>\n",
       "      <td>0</td>\n",
       "      <td>9055</td>\n",
       "      <td>36</td>\n",
       "      <td>3</td>\n",
       "    </tr>\n",
       "    <tr>\n",
       "      <th>447</th>\n",
       "      <td>35</td>\n",
       "      <td>1</td>\n",
       "      <td>1</td>\n",
       "      <td>1</td>\n",
       "      <td>1</td>\n",
       "      <td>2</td>\n",
       "      <td>2576</td>\n",
       "      <td>7</td>\n",
       "      <td>5</td>\n",
       "    </tr>\n",
       "    <tr>\n",
       "      <th>543</th>\n",
       "      <td>34</td>\n",
       "      <td>1</td>\n",
       "      <td>3</td>\n",
       "      <td>1</td>\n",
       "      <td>1</td>\n",
       "      <td>3</td>\n",
       "      <td>2864</td>\n",
       "      <td>18</td>\n",
       "      <td>4</td>\n",
       "    </tr>\n",
       "    <tr>\n",
       "      <th>46</th>\n",
       "      <td>39</td>\n",
       "      <td>1</td>\n",
       "      <td>1</td>\n",
       "      <td>1</td>\n",
       "      <td>3</td>\n",
       "      <td>0</td>\n",
       "      <td>2299</td>\n",
       "      <td>36</td>\n",
       "      <td>5</td>\n",
       "    </tr>\n",
       "    <tr>\n",
       "      <th>718</th>\n",
       "      <td>31</td>\n",
       "      <td>1</td>\n",
       "      <td>1</td>\n",
       "      <td>1</td>\n",
       "      <td>0</td>\n",
       "      <td>3</td>\n",
       "      <td>3148</td>\n",
       "      <td>24</td>\n",
       "      <td>5</td>\n",
       "    </tr>\n",
       "  </tbody>\n",
       "</table>\n",
       "</div>"
      ],
      "text/plain": [
       "     Age  Sex  Job  Housing  Saving accounts  Checking account  Credit amount  \\\n",
       "5     35    1    3        0                0                 0           9055   \n",
       "447   35    1    1        1                1                 2           2576   \n",
       "543   34    1    3        1                1                 3           2864   \n",
       "46    39    1    1        1                3                 0           2299   \n",
       "718   31    1    1        1                0                 3           3148   \n",
       "\n",
       "     Duration  Purpose  \n",
       "5          36        3  \n",
       "447         7        5  \n",
       "543        18        4  \n",
       "46         36        5  \n",
       "718        24        5  "
      ]
     },
     "execution_count": 48,
     "metadata": {},
     "output_type": "execute_result"
    }
   ],
   "source": [
    "X_test.head()"
   ]
  },
  {
   "cell_type": "code",
   "execution_count": 49,
   "metadata": {},
   "outputs": [
    {
     "data": {
      "text/plain": [
       "5      good\n",
       "447    good\n",
       "543     bad\n",
       "46     good\n",
       "718    good\n",
       "Name: Risk, dtype: object"
      ]
     },
     "execution_count": 49,
     "metadata": {},
     "output_type": "execute_result"
    }
   ],
   "source": [
    "y_test.head()"
   ]
  },
  {
   "cell_type": "markdown",
   "metadata": {},
   "source": [
    "## Process categorical data"
   ]
  },
  {
   "cell_type": "code",
   "execution_count": 6,
   "metadata": {},
   "outputs": [
    {
     "data": {
      "text/plain": [
       "{'Sex': array([0.31222222, 0.68777778]),\n",
       " 'Job': array([0.15222222, 0.62222222, 0.02444444, 0.20111111]),\n",
       " 'Housing': array([0.10666667, 0.71333333, 0.18      ]),\n",
       " 'Saving accounts': array([0.18666667, 0.59888889, 0.10555556, 0.06444444, 0.04444444]),\n",
       " 'Checking account': array([0.38777778, 0.27444444, 0.27666667, 0.06111111]),\n",
       " 'Purpose': array([0.09777778, 0.33777778, 0.01333333, 0.05777778, 0.18      ,\n",
       "        0.27888889, 0.02111111, 0.01333333])}"
      ]
     },
     "execution_count": 6,
     "metadata": {},
     "output_type": "execute_result"
    }
   ],
   "source": [
    "X_train_cat = X_train[categorical_features]\n",
    "dict_feature_to_hist = {feature: X_train_cat[feature].value_counts().sort_index().values / X_train_cat.shape[0] \n",
    "                        for feature in categorical_features}\n",
    "dict_feature_to_hist"
   ]
  },
  {
   "cell_type": "code",
   "execution_count": 7,
   "metadata": {},
   "outputs": [
    {
     "data": {
      "text/plain": [
       "(1000, 6)"
      ]
     },
     "execution_count": 7,
     "metadata": {},
     "output_type": "execute_result"
    }
   ],
   "source": [
    "list_buf = []\n",
    "for feature in categorical_features:\n",
    "    list_buf.append(np.random.choice(a=len(dict_feature_to_hist[feature]), size=(1, 1000), p=dict_feature_to_hist[feature]))\n",
    "\n",
    "X_synthetic_orig_cat = X_synthetic_disc_cat = np.concatenate(list_buf).T\n",
    "X_synthetic_orig_cat.shape"
   ]
  },
  {
   "cell_type": "code",
   "execution_count": 19,
   "metadata": {},
   "outputs": [],
   "source": [
    "def discretize(X, qs=[25, 50, 75], all_bins=None):\n",
    "    if all_bins is None:\n",
    "        all_bins = np.percentile(X, qs, axis=0).T\n",
    "    return (np.array([np.digitize(a, bins) for (a, bins) in zip(X.T, all_bins)]).T, all_bins)\n",
    "\n",
    "def kernel_fn(distances, kernel_width):\n",
    "    return np.sqrt(np.exp(-(distances ** 2) / kernel_width ** 2))"
   ]
  },
  {
   "cell_type": "markdown",
   "metadata": {},
   "source": [
    "## Explainer"
   ]
  },
  {
   "cell_type": "code",
   "execution_count": 29,
   "metadata": {},
   "outputs": [],
   "source": [
    "def explain_instance(training_data, data_instance, clf, feature_names, numerical_features, categorical_features, dict_feature_to_hist,\n",
    "                     label, qs=[25, 50, 75], num_samples=5000, num_features=10):\n",
    "    data_instance = data_instance.reshape((1, -1))\n",
    "    \n",
    "    # book-keeping of indices\n",
    "    dict_feature_to_idx = {feature: idx for (idx, feature) in enumerate(feature_names)}\n",
    "    # For indexing\n",
    "    numerical_feature_idxes = [dict_feature_to_idx[feature] for feature in numerical_features]\n",
    "    cat_feature_idxes = [dict_feature_to_idx[feature] for feature in categorical_features]\n",
    "    # For re-ordering\n",
    "    list_reorder = [dict_feature_to_idx[feature] for feature in numerical_features + categorical_features]\n",
    "    \n",
    "    # Split the data into numerical and categorical data\n",
    "    training_data_num = training_data[:,numerical_feature_idxes]\n",
    "    training_data_cat = training_data[:,cat_feature_idxes]\n",
    "    data_num = data_instance[:,numerical_feature_idxes]\n",
    "    data_cat = data_instance[:,cat_feature_idxes]\n",
    "    \n",
    "    ## Process numerical data\n",
    "    all_bins_num = np.percentile(training_data_num, qs, axis=0).T\n",
    "    sc = StandardScaler(with_mean=False)\n",
    "    sc.fit(training_data_num)\n",
    "    data_scaled = sc.transform(data_num)\n",
    "    X_synthetic = np.tile(data_scaled, (num_samples, 1))\n",
    "    X_synthetic = X_synthetic + np.random.normal(size=(num_samples, data_num.shape[1]))\n",
    "    X_synthetic[0] = data_scaled.ravel()\n",
    "    X_synthetic_orig_num = sc.inverse_transform(X_synthetic)\n",
    "    X_synthetic_disc_num, all_bins_num = discretize(X_synthetic_orig_num, qs, all_bins_num)    \n",
    "    \n",
    "    ## Process categorical data\n",
    "    list_buf = []\n",
    "    for feature in categorical_features:\n",
    "        list_buf.append(np.random.choice(a=len(dict_feature_to_hist[feature]), size=(1, num_samples), \n",
    "                                         p=dict_feature_to_hist[feature]))\n",
    "\n",
    "    X_synthetic_orig_cat = X_synthetic_disc_cat = np.concatenate(list_buf).T   \n",
    "    \n",
    "    ###########################################\n",
    "    # Concatenate the data\n",
    "    X_synthetic_orig = np.concatenate([X_synthetic_orig_num, X_synthetic_orig_cat], axis=1)\n",
    "    X_synthetic_orig = X_synthetic_orig[:,list_reorder]\n",
    "    X_synthetic_disc = np.concatenate([X_synthetic_disc_num, X_synthetic_disc_cat], axis=1)\n",
    "    X_synthetic_disc = X_synthetic_disc[:,list_reorder]\n",
    "    \n",
    "    # Get model predictions (i.e. groundtruth)\n",
    "    model_pred = clf.predict_proba(X_synthetic_orig)\n",
    "\n",
    "    # Get distances\n",
    "    distances = scipy.spatial.distance.cdist(X_synthetic[:1], X_synthetic)\n",
    "    distances = distances.reshape(-1, 1)\n",
    "    weights = kernel_fn(distances, kernel_width=training_data.shape[1]).ravel()\n",
    "\n",
    "    # Solve\n",
    "    oe = OneHotEncoder()\n",
    "    X_synthetic_onehot = oe.fit_transform(X_synthetic_disc)    \n",
    "    solver = Ridge(alpha=1, fit_intercept=True)\n",
    "    solver.fit(X_synthetic_onehot, model_pred[:,label], sample_weight=weights)\n",
    "    \n",
    "    # Explain\n",
    "    importances = solver.coef_[X_synthetic_onehot[0].toarray().ravel() == 1]\n",
    "    explanations = sorted(list(zip(feature_names, importances)), \n",
    "                          key=lambda x: x[1], reverse=True)[:num_features]\n",
    "    return explanations"
   ]
  },
  {
   "cell_type": "code",
   "execution_count": 78,
   "metadata": {},
   "outputs": [],
   "source": [
    "def get_explanations():\n",
    "    return explain_instance(\n",
    "        training_data=X_train.to_numpy(),\n",
    "        data_instance=X_test.to_numpy()[0],\n",
    "        clf=clf,\n",
    "        feature_names=feature_names,\n",
    "        numerical_features=numerical_features,\n",
    "        categorical_features=categorical_features,\n",
    "        dict_feature_to_hist=dict_feature_to_hist,\n",
    "        label=1,\n",
    "        qs=[25, 50, 75],\n",
    "        num_samples=10000,\n",
    "        num_features=10\n",
    "    )"
   ]
  },
  {
   "cell_type": "code",
   "execution_count": 79,
   "metadata": {},
   "outputs": [
    {
     "name": "stdout",
     "output_type": "stream",
     "text": [
      "91.2 ms ± 11.4 ms per loop (mean ± std. dev. of 7 runs, 10 loops each)\n"
     ]
    }
   ],
   "source": [
    "%timeit get_explanations()"
   ]
  },
  {
   "cell_type": "code",
   "execution_count": 80,
   "metadata": {},
   "outputs": [
    {
     "data": {
      "text/plain": [
       "[('Age', 0.04984175708928291),\n",
       " ('Purpose', 0.0390298188083696),\n",
       " ('Job', 0.033878452030482016),\n",
       " ('Duration', 0.03119003368235152),\n",
       " ('Credit amount', 0.024531250348135455),\n",
       " ('Housing', 0.023519455607880328),\n",
       " ('Saving accounts', 0.022430220873815382),\n",
       " ('Sex', 0.021305008518442817),\n",
       " ('Checking account', -0.015774595533411616)]"
      ]
     },
     "execution_count": 80,
     "metadata": {},
     "output_type": "execute_result"
    }
   ],
   "source": [
    "exp = get_explanations()\n",
    "exp"
   ]
  },
  {
   "cell_type": "code",
   "execution_count": 81,
   "metadata": {},
   "outputs": [
    {
     "data": {
      "text/plain": [
       "<lime.lime_tabular.LimeTabularExplainer at 0x7fbf93230b90>"
      ]
     },
     "execution_count": 81,
     "metadata": {},
     "output_type": "execute_result"
    }
   ],
   "source": [
    "explainer = LimeTabularExplainer(training_data=X_train.to_numpy(), \n",
    "                                 feature_names=feature_names,\n",
    "                                 categorical_features=[idx for (idx, col) in enumerate(df.columns) if col in categorical_features],\n",
    "                                 categorical_names=categorical_features\n",
    "                                )\n",
    "explainer"
   ]
  },
  {
   "cell_type": "code",
   "execution_count": 82,
   "metadata": {},
   "outputs": [
    {
     "name": "stdout",
     "output_type": "stream",
     "text": [
      "334 ms ± 38.2 ms per loop (mean ± std. dev. of 7 runs, 1 loop each)\n"
     ]
    }
   ],
   "source": [
    "%timeit explainer.explain_instance(data_row=X_test.to_numpy()[0], predict_fn=clf.predict_proba, labels=(0,), num_samples=10000)\n",
    "\n",
    "exp = explainer.explain_instance(\n",
    "    data_row=X_test.to_numpy()[0],\n",
    "    predict_fn=clf.predict_proba,\n",
    "    labels=(0,1)\n",
    ")"
   ]
  },
  {
   "cell_type": "code",
   "execution_count": 67,
   "metadata": {},
   "outputs": [
    {
     "data": {
      "text/plain": [
       "[('Checking account=0', 0.22626244691004274),\n",
       " ('33.00 < Age <= 42.00', 0.03779095775967931),\n",
       " ('Saving accounts=0', 0.03632257458570031),\n",
       " ('Sex=1', 0.012973461565769399),\n",
       " ('Job=3', -0.0023834451843519943),\n",
       " ('Purpose=3', -0.01444845258576066),\n",
       " ('Housing=0', -0.0328900251283455),\n",
       " ('Credit amount > 3973.75', -0.0707249293865586),\n",
       " ('Duration > 24.00', -0.10014282387099928)]"
      ]
     },
     "execution_count": 67,
     "metadata": {},
     "output_type": "execute_result"
    }
   ],
   "source": [
    "sorted(exp.as_list(1), key=lambda x: x[1], reverse=True)"
   ]
  },
  {
   "cell_type": "code",
   "execution_count": 68,
   "metadata": {},
   "outputs": [
    {
     "data": {
      "text/plain": [
       "[('Duration > 24.00', 0.10014282387099933),\n",
       " ('Credit amount > 3973.75', 0.07072492938655862),\n",
       " ('Housing=0', 0.032890025128345546),\n",
       " ('Purpose=3', 0.014448452585760649),\n",
       " ('Job=3', 0.002383445184352031),\n",
       " ('Sex=1', -0.012973461565769406),\n",
       " ('Saving accounts=0', -0.03632257458570024),\n",
       " ('33.00 < Age <= 42.00', -0.03779095775967935),\n",
       " ('Checking account=0', -0.2262624469100428)]"
      ]
     },
     "execution_count": 68,
     "metadata": {},
     "output_type": "execute_result"
    }
   ],
   "source": [
    "sorted(exp.as_list(0), key=lambda x: x[1], reverse=True)"
   ]
  },
  {
   "cell_type": "code",
   "execution_count": 75,
   "metadata": {},
   "outputs": [
    {
     "data": {
      "text/plain": [
       "array(['None', 'little', 'moderate', 'rich'], dtype=object)"
      ]
     },
     "execution_count": 75,
     "metadata": {},
     "output_type": "execute_result"
    }
   ],
   "source": [
    "dict_le['Checking account'].classes_"
   ]
  },
  {
   "cell_type": "code",
   "execution_count": 76,
   "metadata": {},
   "outputs": [
    {
     "data": {
      "text/plain": [
       "array(['highly_skilled', 'skilled', 'unskilled_and_non-resident',\n",
       "       'unskilled_and_resident'], dtype=object)"
      ]
     },
     "execution_count": 76,
     "metadata": {},
     "output_type": "execute_result"
    }
   ],
   "source": [
    "dict_le['Job'].classes_"
   ]
  },
  {
   "cell_type": "code",
   "execution_count": 77,
   "metadata": {},
   "outputs": [
    {
     "data": {
      "text/plain": [
       "array(['None', 'little', 'moderate', 'quite rich', 'rich'], dtype=object)"
      ]
     },
     "execution_count": 77,
     "metadata": {},
     "output_type": "execute_result"
    }
   ],
   "source": [
    "dict_le['Saving accounts'].classes_"
   ]
  },
  {
   "cell_type": "code",
   "execution_count": 111,
   "metadata": {},
   "outputs": [
    {
     "data": {
      "text/plain": [
       "array([[1, 3, 2, 2, 3],\n",
       "       [0, 2, 2, 2, 1],\n",
       "       [1, 1, 1, 3, 0],\n",
       "       [0, 0, 0, 1, 3]])"
      ]
     },
     "execution_count": 111,
     "metadata": {},
     "output_type": "execute_result"
    }
   ],
   "source": [
    "arr = np.random.randint(low=0, high=4, size=(4,5))\n",
    "arr"
   ]
  },
  {
   "cell_type": "code",
   "execution_count": 112,
   "metadata": {},
   "outputs": [
    {
     "data": {
      "text/plain": [
       "{0: array([0.5, 0.5]),\n",
       " 1: array([0.25, 0.25, 0.25, 0.25]),\n",
       " 2: array([0.25, 0.25, 0.5 ]),\n",
       " 3: array([0.  , 0.25, 0.5 , 0.25]),\n",
       " 4: array([0.25, 0.25, 0.  , 0.5 ])}"
      ]
     },
     "execution_count": 112,
     "metadata": {},
     "output_type": "execute_result"
    }
   ],
   "source": [
    "dict_feature = {}\n",
    "for feature in range(arr.shape[1]):\n",
    "    dict_feature[feature] = np.bincount(arr[:,feature]) / arr.shape[0]\n",
    "dict_feature"
   ]
  },
  {
   "cell_type": "code",
   "execution_count": 114,
   "metadata": {},
   "outputs": [
    {
     "data": {
      "text/plain": [
       "array([[1, 3, 2, 2, 3],\n",
       "       [0, 2, 2, 2, 1],\n",
       "       [1, 1, 1, 3, 0],\n",
       "       [0, 0, 0, 1, 3]])"
      ]
     },
     "execution_count": 114,
     "metadata": {},
     "output_type": "execute_result"
    }
   ],
   "source": [
    "np.concatenate([arr], axis=-1)"
   ]
  },
  {
   "cell_type": "code",
   "execution_count": null,
   "metadata": {},
   "outputs": [],
   "source": []
  }
 ],
 "metadata": {
  "kernelspec": {
   "display_name": "Python 3",
   "language": "python",
   "name": "python3"
  },
  "language_info": {
   "codemirror_mode": {
    "name": "ipython",
    "version": 3
   },
   "file_extension": ".py",
   "mimetype": "text/x-python",
   "name": "python",
   "nbconvert_exporter": "python",
   "pygments_lexer": "ipython3",
   "version": "3.7.7"
  }
 },
 "nbformat": 4,
 "nbformat_minor": 4
}
