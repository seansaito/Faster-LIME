{
 "cells": [
  {
   "cell_type": "markdown",
   "metadata": {},
   "source": [
    "# Measure precision\n",
    "\n",
    "* Find other samples that share the same active bits in the binary domain for the top features\n",
    "* Measure proportion of such samples which black box model is aligned with the given instance"
   ]
  },
  {
   "cell_type": "code",
   "execution_count": 88,
   "metadata": {},
   "outputs": [],
   "source": [
    "import numpy as np\n",
    "import pandas as pd\n",
    "\n",
    "from scipy.spatial.distance import cdist\n",
    "import sklearn\n",
    "from sklearn import datasets\n",
    "from sklearn.ensemble import RandomForestClassifier\n",
    "from sklearn.model_selection import train_test_split\n",
    "from sklearn.preprocessing import OneHotEncoder, StandardScaler, LabelEncoder\n",
    "from sklearn.linear_model import Ridge, Lasso\n",
    "from sklearn.metrics import classification_report\n",
    "\n",
    "class Binarizer:\n",
    "    \n",
    "    def __init__(self, training_data, feature_names=None,\n",
    "                 categorical_feature_idxes=None,\n",
    "                 qs=[25, 50, 75], **kwargs):\n",
    "        \"\"\"\n",
    "        Args:\n",
    "            training_data (np.ndarray): Training data to measure training data statistics\n",
    "            feature_names (list): List of feature names\n",
    "            categorical_feature_idxes (list): List of idxes of features that are categorical\n",
    "            qs (list): Discretization bins\n",
    "\n",
    "        Assumptions:\n",
    "            * Data only contains categorical and/or numerical data\n",
    "            * Categorical data is already converted to ordinal labels (e.g. via scikit-learn's\n",
    "                OrdinalEncoder)\n",
    "\n",
    "        \"\"\"\n",
    "        self.training_data = training_data\n",
    "        self.num_features = self.training_data.shape[1]\n",
    "\n",
    "        # Parse columns\n",
    "        if feature_names is not None:\n",
    "            # TODO input validation\n",
    "            self.feature_names = list(feature_names)\n",
    "        else:\n",
    "            self.feature_names = list(range(self.num_features))\n",
    "        self.categorical_feature_idxes = categorical_feature_idxes\n",
    "        if self.categorical_feature_idxes:\n",
    "            self.categorical_features = [self.feature_names[i] for i in\n",
    "                                         self.categorical_feature_idxes]\n",
    "            self.numerical_features = [f for f in self.feature_names if f not in self.categorical_features]\n",
    "            self.numerical_feature_idxes = [idx for idx in range(self.num_features) if\n",
    "                                            idx not in self.categorical_feature_idxes]\n",
    "        else:\n",
    "            self.categorical_features = []\n",
    "            self.numerical_features = self.feature_names\n",
    "            self.numerical_feature_idxes = list(range(self.num_features))\n",
    "\n",
    "        # Some book-keeping: keep track of the original indices of each feature\n",
    "        self.dict_num_feature_to_idx = {feature: idx for (idx, feature) in\n",
    "                                        enumerate(self.numerical_features)}\n",
    "        self.dict_feature_to_idx = {feature: idx for (idx, feature) in\n",
    "                                    enumerate(self.feature_names)}\n",
    "        self.list_reorder = [self.dict_feature_to_idx[feature] for feature in\n",
    "                             self.numerical_features + self.categorical_features]\n",
    "\n",
    "        # Get training data statistics\n",
    "        # Numerical feature statistics\n",
    "        if self.numerical_features:\n",
    "            training_data_num = self.training_data[:, self.numerical_feature_idxes]\n",
    "            self.sc = StandardScaler(with_mean=False)\n",
    "            self.sc.fit(training_data_num)\n",
    "            self.qs = qs\n",
    "            self.all_bins_num = np.percentile(training_data_num, self.qs, axis=0).T\n",
    "\n",
    "        # Categorical feature statistics\n",
    "        if self.categorical_features:\n",
    "            training_data_cat = self.training_data[:, self.categorical_feature_idxes]\n",
    "            self.dict_categorical_hist = {\n",
    "                feature: np.bincount(training_data_cat[:, idx]) / self.training_data.shape[0] for\n",
    "                (idx, feature) in enumerate(self.categorical_features)\n",
    "            }\n",
    "\n",
    "        # Another mapping fr om feature to type\n",
    "        self.dict_feature_to_type = {\n",
    "            feature: 'categorical' if feature in self.categorical_features else 'numerical' for\n",
    "            feature in self.feature_names}\n",
    "        \n",
    "    def discretize(self, X, qs=[25, 50, 75], all_bins=None):\n",
    "        if all_bins is None:\n",
    "            all_bins = np.percentile(X, qs, axis=0).T\n",
    "        return (np.array([np.digitize(a, bins)\n",
    "                          for (a, bins) in zip(X.T, all_bins)]).T, all_bins)\n",
    "\n",
    "    def fetch_similar(self, data_row, test_data, feature_idxes):\n",
    "        \"\"\"\n",
    "        Fetch data from test_data which binarized features match those of data_row\n",
    "        \"\"\"\n",
    "        # Scale the data\n",
    "        data_row = data_row.reshape((1, -1))\n",
    "\n",
    "        # Split data into numerical and categorical data and process\n",
    "        list_disc = []\n",
    "        if self.numerical_features:\n",
    "            data_num = data_row[:, self.numerical_feature_idxes]            \n",
    "            test_data_num = test_data[:, self.numerical_feature_idxes]\n",
    "            \n",
    "            data_num = np.concatenate((data_num, test_data_num))\n",
    "            \n",
    "            # Discretize\n",
    "            data_synthetic_num_disc, _ = self.discretize(data_num, self.qs,\n",
    "                                                         self.all_bins_num)\n",
    "            list_disc.append(data_synthetic_num_disc)\n",
    "\n",
    "        if self.categorical_features:\n",
    "            # Sample from training distribution for each categorical feature\n",
    "            data_cat = data_row[:,self.categorical_feature_idxes]\n",
    "            test_data_cat = test_data[:, self.categorical_feature_idxes]\n",
    "            data_cat = np.concatenate((data_cat, test_data_cat))\n",
    "            \n",
    "            list_disc.append(data_cat)\n",
    "\n",
    "        # Concatenate the data and reorder the columns\n",
    "        data_synthetic_disc = np.concatenate(list_disc, axis=1)\n",
    "        data_synthetic_disc = data_synthetic_disc[:, self.list_reorder]\n",
    "        \n",
    "        data_instance_disc = data_synthetic_disc[0]\n",
    "        test_data_disc = data_synthetic_disc[1:]\n",
    "        \n",
    "        # Fetch neighbors from real test data where top features are the same\n",
    "        same_features = np.where(np.all(test_data_disc[:, feature_idxes] == \n",
    "                                        data_instance_disc[feature_idxes], axis=1))[0]\n",
    "        similar_neighbors = test_data[same_features]\n",
    "        return similar_neighbors"
   ]
  },
  {
   "cell_type": "markdown",
   "metadata": {},
   "source": [
    "## Try measuring precision of lime tabular explainer"
   ]
  },
  {
   "cell_type": "code",
   "execution_count": 49,
   "metadata": {},
   "outputs": [
    {
     "name": "stdout",
     "output_type": "stream",
     "text": [
      "(1000, 10)\n",
      "good    700\n",
      "bad     300\n",
      "Name: Risk, dtype: int64\n"
     ]
    },
    {
     "name": "stderr",
     "output_type": "stream",
     "text": [
      "/experiments/venv_faster_lime/lib/python3.7/site-packages/ipykernel_launcher.py:7: SettingWithCopyWarning: \n",
      "A value is trying to be set on a copy of a slice from a DataFrame.\n",
      "Try using .loc[row_indexer,col_indexer] = value instead\n",
      "\n",
      "See the caveats in the documentation: http://pandas.pydata.org/pandas-docs/stable/user_guide/indexing.html#returning-a-view-versus-a-copy\n",
      "  import sys\n",
      "/experiments/venv_faster_lime/lib/python3.7/site-packages/ipykernel_launcher.py:8: SettingWithCopyWarning: \n",
      "A value is trying to be set on a copy of a slice from a DataFrame.\n",
      "Try using .loc[row_indexer,col_indexer] = value instead\n",
      "\n",
      "See the caveats in the documentation: http://pandas.pydata.org/pandas-docs/stable/user_guide/indexing.html#returning-a-view-versus-a-copy\n",
      "  \n",
      "/experiments/venv_faster_lime/lib/python3.7/site-packages/ipykernel_launcher.py:21: SettingWithCopyWarning: \n",
      "A value is trying to be set on a copy of a slice from a DataFrame.\n",
      "Try using .loc[row_indexer,col_indexer] = value instead\n",
      "\n",
      "See the caveats in the documentation: http://pandas.pydata.org/pandas-docs/stable/user_guide/indexing.html#returning-a-view-versus-a-copy\n"
     ]
    },
    {
     "name": "stdout",
     "output_type": "stream",
     "text": [
      "0.67\n",
      "              precision    recall  f1-score   support\n",
      "\n",
      "         bad       0.11      0.80      0.20         5\n",
      "        good       0.98      0.66      0.79        95\n",
      "\n",
      "    accuracy                           0.67       100\n",
      "   macro avg       0.55      0.73      0.49       100\n",
      "weighted avg       0.94      0.67      0.76       100\n",
      "\n"
     ]
    }
   ],
   "source": [
    "from lime.lime_tabular import LimeTabularExplainer\n",
    "\n",
    "df = pd.read_csv('../data/german_credit_data.csv')\n",
    "print(df.shape)\n",
    "df = df.fillna('None')\n",
    "target_col = 'Risk'\n",
    "df[df[target_col] == 'good'][target_col] = 1\n",
    "df[df[target_col] == 'bad'][target_col] = 0\n",
    "\n",
    "print(df[target_col].value_counts())\n",
    "\n",
    "numerical_features = ['Age', 'Credit amount', 'Duration']\n",
    "categorical_features = ['Sex', 'Job', 'Housing', 'Saving accounts', \n",
    "                        'Checking account', 'Purpose']\n",
    "feature_names = list(df.columns)[:-1]\n",
    "X, y = df[df.columns[:-1]], df[target_col]\n",
    "\n",
    "dict_le = {}\n",
    "for cat_col in categorical_features:\n",
    "    le = LabelEncoder()\n",
    "    X[cat_col] = le.fit_transform(X[cat_col])\n",
    "    dict_le[cat_col] = le\n",
    "\n",
    "X_train, X_test, y_train, y_test = train_test_split(X, y, test_size=0.1)\n",
    "clf = RandomForestClassifier(n_estimators=100, max_depth=5)\n",
    "clf.fit(X_train, y_train)\n",
    "print(clf.score(X_test, y_test))\n",
    "print(classification_report(clf.predict(X_test), y_test))"
   ]
  },
  {
   "cell_type": "code",
   "execution_count": 44,
   "metadata": {},
   "outputs": [
    {
     "data": {
      "text/plain": [
       "Index(['Age', 'Sex', 'Job', 'Housing', 'Saving accounts', 'Checking account',\n",
       "       'Credit amount', 'Duration', 'Purpose', 'Risk'],\n",
       "      dtype='object')"
      ]
     },
     "execution_count": 44,
     "metadata": {},
     "output_type": "execute_result"
    }
   ],
   "source": [
    "df.columns"
   ]
  },
  {
   "cell_type": "code",
   "execution_count": 32,
   "metadata": {},
   "outputs": [],
   "source": [
    "explainer = LimeTabularExplainer(training_data=X_train.to_numpy(), \n",
    "                                 feature_names=feature_names,\n",
    "                                 categorical_features=[idx for (idx, col) in enumerate(df.columns) if col in categorical_features],\n",
    "                                 categorical_names=categorical_features)\n",
    "\n",
    "exp = explainer.explain_instance(\n",
    "    data_row=X_test.to_numpy()[0],\n",
    "    predict_fn=clf.predict_proba,\n",
    "    labels=(0,1),\n",
    "    num_features=3\n",
    ")"
   ]
  },
  {
   "cell_type": "code",
   "execution_count": 33,
   "metadata": {},
   "outputs": [
    {
     "data": {
      "text/plain": [
       "[('Duration <= 12.00', 0.12229827313833372),\n",
       " ('Age > 42.00', 0.0414974037456646),\n",
       " ('Checking account=1', -0.14738513434575204)]"
      ]
     },
     "execution_count": 33,
     "metadata": {},
     "output_type": "execute_result"
    }
   ],
   "source": [
    "sorted(exp.as_list(1), key=lambda x: x[1], reverse=True)"
   ]
  },
  {
   "cell_type": "code",
   "execution_count": 34,
   "metadata": {},
   "outputs": [
    {
     "data": {
      "text/plain": [
       "['Checking account=1', 'Duration <= 12.00', 'Age > 42.00']"
      ]
     },
     "execution_count": 34,
     "metadata": {},
     "output_type": "execute_result"
    }
   ],
   "source": [
    "features_exp = list(map(lambda x: x[0], exp.as_list(1)))\n",
    "features_exp"
   ]
  },
  {
   "cell_type": "code",
   "execution_count": 35,
   "metadata": {},
   "outputs": [
    {
     "name": "stdout",
     "output_type": "stream",
     "text": [
      "['Checking account', 'Duration', 'Age']\n",
      "[0, 5, 7]\n"
     ]
    }
   ],
   "source": [
    "features_used = []\n",
    "features_idx = []\n",
    "for feature_exp in features_exp:\n",
    "    for idx, f in enumerate(feature_names):\n",
    "        if f in feature_exp:\n",
    "            features_used.append(f)\n",
    "            features_idx.append(idx)\n",
    "            break            \n",
    "\n",
    "            \n",
    "features_idx = sorted(features_idx)\n",
    "print(features_used)\n",
    "print(features_idx)"
   ]
  },
  {
   "cell_type": "code",
   "execution_count": 89,
   "metadata": {},
   "outputs": [],
   "source": [
    "binarizer = Binarizer(training_data=X_train.to_numpy(),\n",
    "                      feature_names=feature_names,\n",
    "                      categorical_feature_idxes=[idx for (idx, col) in enumerate(feature_names) \n",
    "                                                 if col in categorical_features])"
   ]
  },
  {
   "cell_type": "code",
   "execution_count": 91,
   "metadata": {},
   "outputs": [
    {
     "data": {
      "text/plain": [
       "(14, 9)"
      ]
     },
     "execution_count": 91,
     "metadata": {},
     "output_type": "execute_result"
    }
   ],
   "source": [
    "similar = binarizer.fetch_similar(\n",
    "    data_row=X_test.to_numpy()[0],\n",
    "    test_data=X_test.to_numpy(),\n",
    "    feature_idxes=features_idx\n",
    ")\n",
    "similar.shape"
   ]
  },
  {
   "cell_type": "code",
   "execution_count": 94,
   "metadata": {},
   "outputs": [
    {
     "name": "stdout",
     "output_type": "stream",
     "text": [
      "Test precision: 1.00\n",
      "Test coverage: 0.14\n"
     ]
    }
   ],
   "source": [
    "print('Test precision: {:.2f}'.format(np.mean(clf.predict(similar) == \n",
    "                                               clf.predict(X_test.to_numpy()[0].reshape(1, -1)))))\n",
    "print('Test coverage: {:.2f}'.format(similar.shape[0] / X_test.shape[0]))"
   ]
  },
  {
   "cell_type": "code",
   "execution_count": null,
   "metadata": {},
   "outputs": [],
   "source": []
  }
 ],
 "metadata": {
  "kernelspec": {
   "display_name": "Python 3",
   "language": "python",
   "name": "python3"
  },
  "language_info": {
   "codemirror_mode": {
    "name": "ipython",
    "version": 3
   },
   "file_extension": ".py",
   "mimetype": "text/x-python",
   "name": "python",
   "nbconvert_exporter": "python",
   "pygments_lexer": "ipython3",
   "version": "3.7.7"
  }
 },
 "nbformat": 4,
 "nbformat_minor": 4
}
